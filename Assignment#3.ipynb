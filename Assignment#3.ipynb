{
 "cells": [
  {
   "cell_type": "code",
   "execution_count": 8,
   "metadata": {},
   "outputs": [
    {
     "name": "stdout",
     "output_type": "stream",
     "text": [
      "Enter first number:2\n",
      "Enter second number:3\n",
      "Enter any operator:**\n",
      "Answer: 8\n"
     ]
    }
   ],
   "source": [
    "a = int(input(\"Enter first number:\"))\n",
    "b = int(input(\"Enter second number:\"))\n",
    "opr = input(\"Enter any operator:\")\n",
    "if (opr == '+'):\n",
    "    ans = a+b\n",
    "    print(\"Answer:\",ans)\n",
    "elif (opr == '-'):\n",
    "    ans = a-b\n",
    "    print(\"Answer:\",ans)\n",
    "elif (opr == '*'):\n",
    "    ans = a*b\n",
    "    print(\"Answer:\",ans)\n",
    "elif (opr == '/'):\n",
    "    ans = a/b\n",
    "    print(\"Answer:\",ans)\n",
    "elif (opr == '**'):\n",
    "    ans = a**b\n",
    "    print(\"Answer:\",ans)\n",
    "else:\n",
    "    print(\"You have entered invalid operator\")\n",
    "    "
   ]
  },
  {
   "cell_type": "code",
   "execution_count": 16,
   "metadata": {},
   "outputs": [
    {
     "name": "stdout",
     "output_type": "stream",
     "text": [
      "Numeric value find = 3.8 at index = 0\n",
      "Numeric value find = 46 at index = 3\n",
      "Numeric value find = 7 at index = 5\n"
     ]
    }
   ],
   "source": [
    "arr = [3.8,\"opr\",\"pow\",46,\"chr\",7]\n",
    "for a in arr:\n",
    "    if type(a) == int or type(a) == float:\n",
    "        print(f\"Numeric value find = {a} at index = {arr.index(a)}\")"
   ]
  },
  {
   "cell_type": "code",
   "execution_count": 27,
   "metadata": {},
   "outputs": [
    {
     "name": "stdout",
     "output_type": "stream",
     "text": [
      "Original dictionary: {'Name': 'Shoaib', 'City': 'Karachi'}\n",
      "Updated Dictionary: {'Name': 'Shoaib', 'City': 'Karachi', 'Father': 'Ahmed'}\n"
     ]
    }
   ],
   "source": [
    "dic = {\"Name\":\"Shoaib\", \"City\":\"Karachi\"}\n",
    "print(\"Original dictionary:\",dic)\n",
    "dic.update({\"Father\":\"Ahmed\"})\n",
    "print(\"Updated Dictionary:\",dic)"
   ]
  },
  {
   "cell_type": "code",
   "execution_count": 31,
   "metadata": {},
   "outputs": [
    {
     "name": "stdout",
     "output_type": "stream",
     "text": [
      "Sum: 60\n"
     ]
    }
   ],
   "source": [
    "def Dic(dic):\n",
    "    sum = 0\n",
    "    for i in dic.values():\n",
    "        sum = sum+i\n",
    "    return sum\n",
    "dic = {0:10, 1:20, 2:30}\n",
    "print(\"Sum:\",Dic(dic))"
   ]
  },
  {
   "cell_type": "code",
   "execution_count": 38,
   "metadata": {},
   "outputs": [
    {
     "name": "stdout",
     "output_type": "stream",
     "text": [
      "Duplicate value is found  abc\n",
      "Duplicate value is found  zzz\n",
      "Duplicate value is found  3\n",
      "['abc', 2, 'zzz', 3]\n"
     ]
    }
   ],
   "source": [
    "list1 = [\"abc\",\"abc\",2,\"zzz\",\"zzz\",3,3]\n",
    "def dup(list1):\n",
    "    list1dup = []\n",
    "    for val in list1:\n",
    "        if val not in list1dup:\n",
    "            list1dup.append (val)\n",
    "        elif val in list1dup:\n",
    "            print(\"Duplicate value is found \",val)\n",
    "    return list1dup\n",
    "print(dup(list1))"
   ]
  },
  {
   "cell_type": "code",
   "execution_count": 43,
   "metadata": {},
   "outputs": [
    {
     "name": "stdout",
     "output_type": "stream",
     "text": [
      "Key exists in the dictionary\n",
      "Key does not exixts in the dictionary\n"
     ]
    }
   ],
   "source": [
    "dic = {1:10,2:20,3:30,4:40,5:50}\n",
    "def is_key_present(x):\n",
    "    if x in dic:\n",
    "        print(\"Key exists in the dictionary\")\n",
    "    else:\n",
    "        print(\"Key does not exixts in the dictionary\")\n",
    "is_key_present(4)\n",
    "is_key_present(40)"
   ]
  },
  {
   "cell_type": "code",
   "execution_count": null,
   "metadata": {},
   "outputs": [],
   "source": []
  }
 ],
 "metadata": {
  "kernelspec": {
   "display_name": "Python 3",
   "language": "python",
   "name": "python3"
  },
  "language_info": {
   "codemirror_mode": {
    "name": "ipython",
    "version": 3
   },
   "file_extension": ".py",
   "mimetype": "text/x-python",
   "name": "python",
   "nbconvert_exporter": "python",
   "pygments_lexer": "ipython3",
   "version": "3.7.4"
  }
 },
 "nbformat": 4,
 "nbformat_minor": 2
}
