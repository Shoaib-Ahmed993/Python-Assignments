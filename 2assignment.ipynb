{
 "cells": [
  {
   "cell_type": "code",
   "execution_count": 1,
   "metadata": {},
   "outputs": [
    {
     "name": "stdout",
     "output_type": "stream",
     "text": [
      "Enter marks of sub1:50\n",
      "Enter marks of sub2:60\n",
      "Enter marks of sub3:70\n",
      "Enter marks of sub4:30\n",
      "Enter marks of sub5:40\n",
      "C Grade\n"
     ]
    }
   ],
   "source": [
    "sub1=int(input(\"Enter marks of sub1:\"))\n",
    "sub2=int(input(\"Enter marks of sub2:\"))\n",
    "sub3=int(input(\"Enter marks of sub3:\"))\n",
    "sub4=int(input(\"Enter marks of sub4:\"))\n",
    "sub5=int(input(\"Enter marks of sub5:\"))\n",
    "per =(sub1+sub2+sub3+sub4+sub5)/5\n",
    "if(per>=80):\n",
    "    print(\"A+ Grade\")\n",
    "elif(per>=70):\n",
    "    print(\"A Grade\")\n",
    "elif(per>=60):\n",
    "    print(\"B Grade\")\n",
    "elif(per>=50):\n",
    "    print(\"C Grade\")\n",
    "elif(per>=40):\n",
    "    print(\"D Grade\")\n",
    "elif(per<40):\n",
    "    print(\"Fail\")\n",
    "else:\n",
    "    print(\"Invalid input\")"
   ]
  },
  {
   "cell_type": "code",
   "execution_count": 3,
   "metadata": {},
   "outputs": [
    {
     "name": "stdout",
     "output_type": "stream",
     "text": [
      "Enter a number:56\n",
      "Even Number\n"
     ]
    }
   ],
   "source": [
    "a = int(input(\"Enter a number:\"))\n",
    "if(a%2==0):\n",
    "    print(\"Even Number\")\n",
    "else:\n",
    "    print(\"Odd Number\")"
   ]
  },
  {
   "cell_type": "code",
   "execution_count": 4,
   "metadata": {},
   "outputs": [
    {
     "name": "stdout",
     "output_type": "stream",
     "text": [
      "The length of the list is: 5\n"
     ]
    }
   ],
   "source": [
    "arr = len([2,4,6,8,10])\n",
    "print(\"The length of the list is:\",arr)"
   ]
  },
  {
   "cell_type": "code",
   "execution_count": 5,
   "metadata": {},
   "outputs": [
    {
     "name": "stdout",
     "output_type": "stream",
     "text": [
      "25\n"
     ]
    }
   ],
   "source": [
    "x = [1,3,5,7,9]\n",
    "print(sum(x))"
   ]
  },
  {
   "cell_type": "code",
   "execution_count": 6,
   "metadata": {},
   "outputs": [
    {
     "name": "stdout",
     "output_type": "stream",
     "text": [
      "50\n"
     ]
    }
   ],
   "source": [
    "num = [20,10,15,35,50]\n",
    "print(max(num))"
   ]
  },
  {
   "cell_type": "code",
   "execution_count": 7,
   "metadata": {},
   "outputs": [
    {
     "name": "stdout",
     "output_type": "stream",
     "text": [
      "[1, 1, 2, 3]\n"
     ]
    }
   ],
   "source": [
    "a = [1,1,2,3,5,8,13,21,34,55,89]\n",
    "new_list = []\n",
    "for item in a:\n",
    "    if item<5:\n",
    "        new_list.append(item)\n",
    "print(new_list)"
   ]
  },
  {
   "cell_type": "code",
   "execution_count": null,
   "metadata": {},
   "outputs": [],
   "source": []
  }
 ],
 "metadata": {
  "kernelspec": {
   "display_name": "Python 3",
   "language": "python",
   "name": "python3"
  },
  "language_info": {
   "codemirror_mode": {
    "name": "ipython",
    "version": 3
   },
   "file_extension": ".py",
   "mimetype": "text/x-python",
   "name": "python",
   "nbconvert_exporter": "python",
   "pygments_lexer": "ipython3",
   "version": "3.7.4"
  }
 },
 "nbformat": 4,
 "nbformat_minor": 2
}
