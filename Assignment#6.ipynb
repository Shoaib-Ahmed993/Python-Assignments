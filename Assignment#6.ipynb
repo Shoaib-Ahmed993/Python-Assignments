{
 "cells": [
  {
   "cell_type": "code",
   "execution_count": null,
   "metadata": {},
   "outputs": [],
   "source": [
    "Object Oriented Programming (OOP) refers to a type of computer programming (software design) in which programmers define not only the datatype of a data structure, but also the type of operations (functions) that can be applied to the data structure."
   ]
  },
  {
   "cell_type": "code",
   "execution_count": null,
   "metadata": {},
   "outputs": [],
   "source": [
    "1. It provides a clear modular structure for programs which makes it good for defining abstract datatypes in which implementation details are hidden.\n",
    "2. Objects can also be reused within an across applications.\n",
    "3.It makes software easier to maintain\n",
    "4. Reuse also enables faster development.\n",
    "5. It provides a good framework for code libraries where the supplied software components can be easily adapted and modified by the programmer. This is particularly useful for developing GUI."
   ]
  },
  {
   "cell_type": "code",
   "execution_count": null,
   "metadata": {},
   "outputs": [],
   "source": [
    "A very general definition of the main difference between a function and a method. Functions are defined outside of classes, while methods are define inside of and part of classes. The idea behind Object Oriented paradigm is to \"treat\" the software is composed of well \"objects\".\n",
    "                                        ********** OR **********\n",
    "A function is a piece of code that is called by name. It can be passed data to operate on (i.e the parameters) and can optionally return data (the return value). All data that is passed to a function is explictitly passed. A method is a piece of code that is called by a name that is associated with an object."
   ]
  },
  {
   "cell_type": "code",
   "execution_count": null,
   "metadata": {},
   "outputs": [],
   "source": [
    "Class:\n",
    "    In OOP, a class is a blueprint for creating objects (a particular data structures), providing initial values for state (member variables or attributes), and implementations of behavior (member functions or methods). The user defined objects are created using the class keyword.\n",
    "Object:\n",
    "    An object is an instance of a class.\n",
    "Attribute:\n",
    "    An attribute is a quality or characteristics given to a person, group, or some other thing.\n",
    "Behavior:\n",
    "    The behavior are the functions and subroutines defined within the object class."
   ]
  },
  {
   "cell_type": "code",
   "execution_count": 1,
   "metadata": {},
   "outputs": [
    {
     "name": "stdout",
     "output_type": "stream",
     "text": [
      "Lamborghini Lambo 2010 Blue 2\n",
      "Vitz is stopped\n",
      "Fe22 is now being driven\n"
     ]
    }
   ],
   "source": [
    "class Car:\n",
    "    def __init__(self, name, brand, model, color, doors):\n",
    "        self.name = name\n",
    "        self.brand = brand\n",
    "        self.model = model\n",
    "        self.color = color\n",
    "        self.doors = doors\n",
    "    def printCar(self):\n",
    "        print(self.name, self.brand, self.model, self.color,self.doors)\n",
    "    def drive(self):\n",
    "        print(self.name,\"is now being driven\")\n",
    "    def stop(self):\n",
    "        print(self.name,\"is stopped\")\n",
    "        \n",
    "car1 = Car(\"Mehran\", \"Suzuki\", \"2009\", \"White\", 4)\n",
    "car2 = Car(\"Lamborghini\", \"Lambo\", \"2010\", \"Blue\", 2)\n",
    "car3 = Car(\"Fe22\", \"Ferrari\", \"2011\", \"Green\", 4)\n",
    "car4 = Car(\"Corolla\", \"Toyota\", \"2012\", \"Red\", 2)\n",
    "car5 = Car(\"Vitz\", \"Honda\", \"2019\", \"Gray\", 4)\n",
    "car2.printCar()\n",
    "car5.stop()\n",
    "car3.drive()"
   ]
  },
  {
   "cell_type": "code",
   "execution_count": null,
   "metadata": {},
   "outputs": [],
   "source": []
  }
 ],
 "metadata": {
  "kernelspec": {
   "display_name": "Python 3",
   "language": "python",
   "name": "python3"
  },
  "language_info": {
   "codemirror_mode": {
    "name": "ipython",
    "version": 3
   },
   "file_extension": ".py",
   "mimetype": "text/x-python",
   "name": "python",
   "nbconvert_exporter": "python",
   "pygments_lexer": "ipython3",
   "version": "3.7.4"
  }
 },
 "nbformat": 4,
 "nbformat_minor": 2
}
