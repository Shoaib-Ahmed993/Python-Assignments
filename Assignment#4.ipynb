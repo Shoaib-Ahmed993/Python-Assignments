{
 "cells": [
  {
   "cell_type": "code",
   "execution_count": 1,
   "metadata": {},
   "outputs": [
    {
     "name": "stdout",
     "output_type": "stream",
     "text": [
      "Shoaib\n",
      "Ahmed\n",
      "20\n",
      "Karachi\n",
      "F.Sc\n",
      "After update Qualification is  BS.CS\n",
      "{'First_Name': 'Shoaib', 'Last_Name': 'Ahmed', 'Age': 20, 'City': 'Karachi'}\n"
     ]
    }
   ],
   "source": [
    "person = {\n",
    "    \"First_Name\":\"Shoaib\",\n",
    "    \"Last_Name\":\"Ahmed\", \n",
    "    \"Age\" : 20 , \n",
    "    \"City\":\"Karachi\" \n",
    "}\n",
    "for s in person.values():\n",
    "    print (s)\n",
    "person.update({\"Qualification\":\"F.Sc\"})\n",
    "print(person[\"Qualification\"])\n",
    "person[\"Qualification\"]= \"BS.CS\"\n",
    "print(\"After update Qualification is \",person[\"Qualification\"])\n",
    "del person[\"Qualification\"]\n",
    "print(person)"
   ]
  },
  {
   "cell_type": "code",
   "execution_count": 2,
   "metadata": {},
   "outputs": [
    {
     "name": "stdout",
     "output_type": "stream",
     "text": [
      "City Name: Karachi\n",
      "Country Name: Pakistan\n",
      "Approx_Population: 14.91 Million\n",
      "City_Fact: City Of Lights\n",
      "\n",
      "\n",
      "--------------------------------------------------\n",
      "\n",
      "City Name: Mumbai\n",
      "Country Name: India\n",
      "Approx_Population: 18.41 Million\n",
      "City_Fact: Birthplace of the author of The Jungle Book\n",
      "\n",
      "\n",
      "--------------------------------------------------\n",
      "\n",
      "City Name: Paris\n",
      "Country Name: France\n",
      "Approx_Population: 2.141 Million\n",
      "City_Fact: There is only 1 stop sign in the entire city of Paris\n",
      "\n",
      "\n",
      "--------------------------------------------------\n",
      "\n"
     ]
    }
   ],
   "source": [
    "Cities = {\n",
    "    \"Karachi\" : {\n",
    "        \"country\" : \"Pakistan\",\n",
    "        \"approx_population\" : \"14.91 Million\",\n",
    "        \"fact_about_city\" : \"City Of Lights\"\n",
    "    },\n",
    "     \"Mumbai\" : {\n",
    "        \"country\" : \"India\",\n",
    "        \"approx_population\" : \"18.41 Million\",\n",
    "        \"fact_about_city\" : \"Birthplace of the author of The Jungle Book\"\n",
    "    },\n",
    "     \"Paris\" : {\n",
    "        \"country\" : \"France\",\n",
    "        \"approx_population\" : \"2.141 Million\",\n",
    "        \"fact_about_city\" : \"There is only 1 stop sign in the entire city of Paris\"\n",
    "    }\n",
    "}\n",
    "for s in Cities.keys():\n",
    "    print(\"City Name:\", s)\n",
    "    print(\"Country Name:\", Cities[s][\"country\"])\n",
    "    print(\"Approx_Population:\", Cities[s][\"approx_population\"])\n",
    "    print(\"City_Fact:\", Cities[s][\"fact_about_city\"])\n",
    "    print(\"\\n\")\n",
    "    print(\"--------------------------------------------------\\n\")"
   ]
  },
  {
   "cell_type": "code",
   "execution_count": 3,
   "metadata": {},
   "outputs": [
    {
     "name": "stdout",
     "output_type": "stream",
     "text": [
      "Movie Theater!\n",
      "Enter No: of Persons3\n",
      "Enter Person's age:2\n",
      "Your ticket is free\n",
      "Enter Person's age:6\n",
      "Your ticket's price is 10$\n",
      "Enter Person's age:18\n",
      "Your ticket's price is 15$\n"
     ]
    }
   ],
   "source": [
    "print(\"Movie Theater!\")\n",
    "person  = int(input(\"Enter No: of Persons\"))\n",
    "for i in range (1,person+1):\n",
    "    age = int(input(\"Enter Person's age:\"))\n",
    "    if age < 3:\n",
    "        print(\"Your ticket is free\")\n",
    "    elif age>3 and age<12:\n",
    "        print(\"Your ticket's price is 10$\")\n",
    "    elif age>12:\n",
    "        print(\"Your ticket's price is 15$\")\n",
    "    else:\n",
    "        print(\"Incorrect input\")\n"
   ]
  },
  {
   "cell_type": "code",
   "execution_count": 4,
   "metadata": {},
   "outputs": [
    {
     "name": "stdout",
     "output_type": "stream",
     "text": [
      "Enter book's titleA smarter way to learn Python\n",
      "One of my favourite book is A smarter way to learn Python\n"
     ]
    }
   ],
   "source": [
    "def favourite_book(title):\n",
    "    print(\"One of my favourite book is\", title)\n",
    "book_title = input(\"Enter book's title\")\n",
    "favourite_book(book_title)"
   ]
  },
  {
   "cell_type": "code",
   "execution_count": 9,
   "metadata": {},
   "outputs": [
    {
     "name": "stdout",
     "output_type": "stream",
     "text": [
      "Guess the number between 1 to 30: 10\n",
      "Your guess is very low\n",
      "Guess the number between 1 to 30: 20\n",
      "Your guess is very high\n",
      "Guess the number between 1 to 30: 18\n",
      "Your guess is very high\n",
      "Sorry you loose\n",
      "Correct number is  11\n"
     ]
    }
   ],
   "source": [
    "import random\n",
    "random_number = random.randrange(1,30)\n",
    "flag = False\n",
    "for i in range(1,4):\n",
    "    guess = int(input(\"Guess the number between 1 to 30: \"))\n",
    "    if guess == random_number:\n",
    "        flag = True\n",
    "        break\n",
    "    elif guess < random_number:\n",
    "        print(\"Your guess is very low\")\n",
    "    elif guess > random_number:\n",
    "        print(\"Your guess is very high\")\n",
    "if flag:\n",
    "    print(\"Congratulations you guess the righ number!\")\n",
    "else:\n",
    "    print(\"Sorry you loose\")\n",
    "    print(\"Correct number is \",random_number)"
   ]
  },
  {
   "cell_type": "code",
   "execution_count": null,
   "metadata": {},
   "outputs": [],
   "source": []
  }
 ],
 "metadata": {
  "kernelspec": {
   "display_name": "Python 3",
   "language": "python",
   "name": "python3"
  },
  "language_info": {
   "codemirror_mode": {
    "name": "ipython",
    "version": 3
   },
   "file_extension": ".py",
   "mimetype": "text/x-python",
   "name": "python",
   "nbconvert_exporter": "python",
   "pygments_lexer": "ipython3",
   "version": "3.7.4"
  }
 },
 "nbformat": 4,
 "nbformat_minor": 2
}
